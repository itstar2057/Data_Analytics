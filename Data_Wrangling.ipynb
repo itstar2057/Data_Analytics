{
 "cells": [
  {
   "cell_type": "markdown",
   "metadata": {},
   "source": [
    "# Data wrangling"
   ]
  },
  {
   "cell_type": "code",
   "execution_count": null,
   "metadata": {},
   "outputs": [],
   "source": [
    "# Importing Libraries\n",
    "import pandas as pd\n",
    "import numpy as np\n",
    "import seaborn as sns\n",
    "import matplotlib.pyplot as plt"
   ]
  },
  {
   "cell_type": "code",
   "execution_count": null,
   "metadata": {},
   "outputs": [],
   "source": [
    "# importing data sets\n",
    "kashti = pd.read_csv(\"kashti.csv\")\n",
    "ks1 = kashti\n",
    "ks2 = kashti\n"
   ]
  },
  {
   "cell_type": "code",
   "execution_count": null,
   "metadata": {},
   "outputs": [],
   "source": [
    "kashti.head(3)"
   ]
  },
  {
   "cell_type": "code",
   "execution_count": null,
   "metadata": {},
   "outputs": [],
   "source": [
    "# simple operation (math opeerations)\n",
    "(kashti[\"age\"]+1).head(3)\n",
    "(kashti[\"age\"]*2).head(3)"
   ]
  },
  {
   "cell_type": "markdown",
   "metadata": {},
   "source": [
    "### Dealing with missing values\n",
    "- missing values are either N/A, NaN, 0 and Blanks\n",
    "- if it does't effect the data remove the column or row or specific data enty\n",
    "#### Replace the missing value\n",
    "1-HOW?\n",
    "- Average of entire variable\n",
    "- frequency or mode replacements\n",
    "- replace based on other fuctions (data sampler know that)\n",
    "- ML can also be used\n",
    "- leave it like that\n",
    "\n",
    "2-why?\n",
    "- its better because no data is lost\n",
    "- less accurate if data is loss"
   ]
  },
  {
   "cell_type": "code",
   "execution_count": null,
   "metadata": {},
   "outputs": [],
   "source": [
    "# where exactly missing values are?\n",
    "kashti.isnull().sum()"
   ]
  },
  {
   "cell_type": "code",
   "execution_count": null,
   "metadata": {},
   "outputs": [],
   "source": [
    "print(kashti.shape)"
   ]
  },
  {
   "cell_type": "code",
   "execution_count": null,
   "metadata": {},
   "outputs": [],
   "source": [
    "# Use drop.na method\n",
    "kashti.dropna(subset=[\"deck\"], axis=0, inplace=False) # this will remove the null values from deck rows\n",
    "# inplace = true modifies the data frame"
   ]
  },
  {
   "cell_type": "code",
   "execution_count": null,
   "metadata": {},
   "outputs": [],
   "source": [
    "# find again null values\n",
    "kashti.isnull().sum()"
   ]
  },
  {
   "cell_type": "code",
   "execution_count": null,
   "metadata": {},
   "outputs": [],
   "source": [
    "# check again the shape\n",
    "print(kashti.shape)"
   ]
  },
  {
   "cell_type": "code",
   "execution_count": null,
   "metadata": {},
   "outputs": [],
   "source": [
    "# to update the main data farame\n",
    "kashti = kashti.dropna()\n",
    "kashti.isnull().sum() #remove NA from whole data frame"
   ]
  },
  {
   "cell_type": "code",
   "execution_count": null,
   "metadata": {},
   "outputs": [],
   "source": [
    "# check the shape again\n",
    "kashti.shape"
   ]
  },
  {
   "cell_type": "code",
   "execution_count": null,
   "metadata": {},
   "outputs": [],
   "source": [
    "ks1.isnull().sum()"
   ]
  },
  {
   "cell_type": "markdown",
   "metadata": {},
   "source": [
    "## Replacing missing values with the Avg: of that column"
   ]
  },
  {
   "cell_type": "code",
   "execution_count": null,
   "metadata": {},
   "outputs": [],
   "source": [
    "#finding an avg\n",
    "mean = ks1[\"age\"].mean()\n",
    "mean"
   ]
  },
  {
   "cell_type": "code",
   "execution_count": null,
   "metadata": {},
   "outputs": [],
   "source": [
    "# Replacing NaN with the mean of age column\n",
    "ks1[\"age\"] = ks1[\"age\"].replace(np.nan, mean)"
   ]
  },
  {
   "cell_type": "code",
   "execution_count": null,
   "metadata": {},
   "outputs": [],
   "source": [
    "ks1.isnull().sum()"
   ]
  },
  {
   "cell_type": "markdown",
   "metadata": {},
   "source": [
    "## Data Formating\n",
    "- Data format is a standard of dataclass\n",
    "- Ensure that data is consistant and uderstandable\n",
    "    - Easy to gather\n",
    "    - Easy to workwith\n",
    "    \n",
    "        - convert g to kg or similar unit for all"
   ]
  },
  {
   "cell_type": "code",
   "execution_count": null,
   "metadata": {},
   "outputs": [],
   "source": [
    "# know that the data type and convert it into the known one\n",
    "kashti.dtypes"
   ]
  },
  {
   "cell_type": "code",
   "execution_count": null,
   "metadata": {},
   "outputs": [],
   "source": [
    "# convert data type to another data types\n",
    "kashti[\"survived\"] = kashti[\"survived\"].astype(\"int64\")\n",
    "kashti.dtypes"
   ]
  },
  {
   "cell_type": "code",
   "execution_count": null,
   "metadata": {},
   "outputs": [],
   "source": [
    "# Convert age to days instead of years\n",
    "ks1[\"age\"] = ks1[\"age\"]*365\n",
    "ks1.head(3)"
   ]
  },
  {
   "cell_type": "code",
   "execution_count": null,
   "metadata": {},
   "outputs": [],
   "source": [
    "# Rename the columns names\n",
    "ks1.rename(columns={\"age\":\"age_in_days\"}, inplace=True)\n",
    "ks1.head(3)"
   ]
  },
  {
   "cell_type": "markdown",
   "metadata": {},
   "source": [
    "### Data Normalization\n",
    "- Bell-curve are normalize data\n",
    "- Uniform the data\n",
    "- Making user they have same impact\n",
    "- one fish in sea and the other in jar \n",
    "- Also for computation reasons"
   ]
  },
  {
   "cell_type": "code",
   "execution_count": null,
   "metadata": {},
   "outputs": [],
   "source": [
    "kashti.head()"
   ]
  },
  {
   "cell_type": "code",
   "execution_count": null,
   "metadata": {},
   "outputs": [],
   "source": [
    "ks4 = ks1[[\"age_in_days\",\"fare\"]]\n",
    "ks4.head(3)"
   ]
  },
  {
   "cell_type": "markdown",
   "metadata": {},
   "source": [
    "- The above data is really in wide range and need to normalize because its hard to compare\n",
    "- Normalization change the values to the range of 0 to -1 (now both variables has similar ifluence on our model)"
   ]
  },
  {
   "cell_type": "markdown",
   "metadata": {},
   "source": [
    "### Method of Normalization\n",
    "- Simple feature scaling\n",
    "    - x(new)=x(old)/x(max)\n",
    "- Min-Max Method\n",
    "- Z-score (standard score) -3 to +3\n",
    "- Log Transformation"
   ]
  },
  {
   "cell_type": "code",
   "execution_count": null,
   "metadata": {},
   "outputs": [],
   "source": [
    "# Simple Feature method\n",
    "ks4[\"fare\"] = ks4[\"fare\"]/ks4[\"fare\"].max()\n",
    "ks4.head(3)"
   ]
  },
  {
   "cell_type": "code",
   "execution_count": null,
   "metadata": {},
   "outputs": [],
   "source": [
    "# Simple Feature method\n",
    "ks4[\"age_in_days\"] = ks4[\"age_in_days\"]/ks4[\"age_in_days\"].max()\n",
    "ks4.head(3)"
   ]
  },
  {
   "cell_type": "code",
   "execution_count": null,
   "metadata": {},
   "outputs": [],
   "source": [
    "# Min-Max Method \n",
    "\n",
    "ks4[\"fare\"] = (ks4[\"fare\"]-ks4[\"fare\"].min()) / (ks4[\"fare\"].max()-ks4[\"fare\"].min())\n",
    "ks4.head(3)"
   ]
  },
  {
   "cell_type": "code",
   "execution_count": null,
   "metadata": {},
   "outputs": [],
   "source": [
    "# Min-Max Method \n",
    "\n",
    "ks4[\"age_in_days\"] = (ks4[\"age_in_days\"]-ks4[\"age_in_days\"].min()) / (ks4[\"age_in_days\"].max()-ks4[\"age_in_days\"].min())\n",
    "ks4.head(3)"
   ]
  },
  {
   "cell_type": "code",
   "execution_count": null,
   "metadata": {},
   "outputs": [],
   "source": [
    "# Z-Score (Standard score)\n",
    "ks4[\"fare\"] = (ks4[\"fare\"]-ks4[\"fare\"].mean()) / ks4[\"fare\"].std()\n",
    "ks4.head(3)"
   ]
  },
  {
   "cell_type": "code",
   "execution_count": null,
   "metadata": {},
   "outputs": [],
   "source": [
    "# Z-Score (Standard score)\n",
    "ks4[\"age_in_days\"] = (ks4[\"age_in_days\"]-ks4[\"age_in_days\"].mean()) / ks4[\"age_in_days\"].std()\n",
    "ks4.head(3)"
   ]
  },
  {
   "cell_type": "code",
   "execution_count": null,
   "metadata": {},
   "outputs": [],
   "source": [
    "# Log Transforation\n",
    "ks4[\"fare\"] = np.log(ks4[\"fare\"])\n",
    "ks4.head(3)"
   ]
  },
  {
   "cell_type": "markdown",
   "metadata": {},
   "source": [
    "### **Binning**\n",
    "- Grouping of values into smaller number of values (bins)\n",
    "- convert numeric into categories (jawan, Bache, borhy) or 1-16, 17-30, 31-60 etc.\n",
    "- To have better understanding of groups.\n",
    "  - Low vs Mid vs High Prices"
   ]
  },
  {
   "cell_type": "code",
   "execution_count": null,
   "metadata": {},
   "outputs": [],
   "source": [
    "min_value = kashti['age'].min()\n",
    "max_value = kashti['age'].max()\n",
    "print(min_value)\n",
    "print(max_value)"
   ]
  },
  {
   "cell_type": "code",
   "execution_count": null,
   "metadata": {},
   "outputs": [],
   "source": [
    "bins = np.linspace(min_value, max_value, 4)\n",
    "age_groups = [\"Bachy\", \"Jawan\", \"Boorhy\"]\n",
    "kashti[\"age\"] = pd.cut(kashti[\"age\"], bins, labels=age_groups, include_lowest=True)\n",
    "kashti[\"age\"]\n",
    "# How this will change the names in dataset based on grouping? (Assignents)"
   ]
  },
  {
   "cell_type": "code",
   "execution_count": null,
   "metadata": {},
   "outputs": [],
   "source": [
    "kashti.head(3)"
   ]
  },
  {
   "cell_type": "code",
   "execution_count": null,
   "metadata": {},
   "outputs": [],
   "source": [
    "kashti[\"age\"].astype(str)"
   ]
  },
  {
   "cell_type": "code",
   "execution_count": null,
   "metadata": {},
   "outputs": [],
   "source": [
    "kashti.dtypes"
   ]
  },
  {
   "cell_type": "code",
   "execution_count": null,
   "metadata": {},
   "outputs": [],
   "source": [
    "# ploting the binning \"age\" categories\n",
    "plt.hist(kashti['age'], bins=3)\n",
    "plt.show()"
   ]
  },
  {
   "cell_type": "markdown",
   "metadata": {},
   "source": [
    "### **Converting categories into dummies**\n",
    "- easy to use for computaton \n",
    "- male Female (0,1)"
   ]
  },
  {
   "cell_type": "code",
   "execution_count": null,
   "metadata": {},
   "outputs": [],
   "source": [
    "pd.get_dummies(ks1, columns=[\"sex\"])\n",
    "# how to use get dummies to change data into a dataframe (Assignments)"
   ]
  },
  {
   "cell_type": "code",
   "execution_count": null,
   "metadata": {},
   "outputs": [],
   "source": [
    "type_dummies = pd.get_dummies(ks1['sex'],drop_first=True)  \n",
    "ks1 = pd.concat([ks1,type_dummies],axis=1)"
   ]
  },
  {
   "cell_type": "code",
   "execution_count": null,
   "metadata": {},
   "outputs": [],
   "source": [
    "ks1[\"male\"]"
   ]
  },
  {
   "cell_type": "code",
   "execution_count": null,
   "metadata": {},
   "outputs": [],
   "source": [
    "ks1.rename(columns={\"male\":\"Sex\"}, inplace=True)\n",
    "ks1.head(3)"
   ]
  },
  {
   "cell_type": "code",
   "execution_count": null,
   "metadata": {},
   "outputs": [],
   "source": [
    "ks1.drop([\"sex\"], axis=1)"
   ]
  },
  {
   "cell_type": "code",
   "execution_count": null,
   "metadata": {},
   "outputs": [],
   "source": [
    "ks1.head(3)"
   ]
  }
 ],
 "metadata": {
  "kernelspec": {
   "display_name": "Python 3.10.6 64-bit",
   "language": "python",
   "name": "python3"
  },
  "language_info": {
   "codemirror_mode": {
    "name": "ipython",
    "version": 3
   },
   "file_extension": ".py",
   "mimetype": "text/x-python",
   "name": "python",
   "nbconvert_exporter": "python",
   "pygments_lexer": "ipython3",
   "version": "3.10.6"
  },
  "orig_nbformat": 4,
  "vscode": {
   "interpreter": {
    "hash": "3d51476e91cd77fa9cca85d630b61f95bbf443b0974003316501cd1d44dcb4e5"
   }
  }
 },
 "nbformat": 4,
 "nbformat_minor": 2
}
